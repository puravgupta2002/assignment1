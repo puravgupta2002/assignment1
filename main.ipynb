{
 "cells": [
  {
   "cell_type": "code",
   "execution_count": 13,
   "id": "5ee3bc00",
   "metadata": {},
   "outputs": [
    {
     "name": "stdout",
     "output_type": "stream",
     "text": [
      "Alert detected: To access the application, please install CPWD Signer from the Downloads section and launch it with administrator privileges. For additional information, please check the CPWD Signer User Manual.\n",
      "Alert dismissed.\n"
     ]
    },
    {
     "ename": "Exception",
     "evalue": "Tender table not found.",
     "output_type": "error",
     "traceback": [
      "\u001b[0;31m---------------------------------------------------------------------------\u001b[0m",
      "\u001b[0;31mException\u001b[0m                                 Traceback (most recent call last)",
      "Cell \u001b[0;32mIn[13], line 53\u001b[0m\n\u001b[1;32m     51\u001b[0m table \u001b[38;5;241m=\u001b[39m soup\u001b[38;5;241m.\u001b[39mfind(\u001b[38;5;124m\"\u001b[39m\u001b[38;5;124mtable\u001b[39m\u001b[38;5;124m\"\u001b[39m, {\u001b[38;5;124m\"\u001b[39m\u001b[38;5;124mid\u001b[39m\u001b[38;5;124m\"\u001b[39m: \u001b[38;5;124m\"\u001b[39m\u001b[38;5;124mtable\u001b[39m\u001b[38;5;124m\"\u001b[39m})\n\u001b[1;32m     52\u001b[0m \u001b[38;5;28;01mif\u001b[39;00m table \u001b[38;5;129;01mis\u001b[39;00m \u001b[38;5;28;01mNone\u001b[39;00m:\n\u001b[0;32m---> 53\u001b[0m     \u001b[38;5;28;01mraise\u001b[39;00m \u001b[38;5;167;01mException\u001b[39;00m(\u001b[38;5;124m\"\u001b[39m\u001b[38;5;124mTender table not found.\u001b[39m\u001b[38;5;124m\"\u001b[39m)\n\u001b[1;32m     55\u001b[0m rows \u001b[38;5;241m=\u001b[39m table\u001b[38;5;241m.\u001b[39mfind_all(\u001b[38;5;124m\"\u001b[39m\u001b[38;5;124mtr\u001b[39m\u001b[38;5;124m\"\u001b[39m)[\u001b[38;5;241m1\u001b[39m:\u001b[38;5;241m21\u001b[39m]  \u001b[38;5;66;03m# Skip header row\u001b[39;00m\n\u001b[1;32m     57\u001b[0m \u001b[38;5;66;03m# Extract relevant columns\u001b[39;00m\n",
      "\u001b[0;31mException\u001b[0m: Tender table not found."
     ]
    }
   ],
   "source": [
    "from selenium import webdriver\n",
    "from selenium.webdriver.common.by import By\n",
    "from selenium.webdriver.chrome.options import Options\n",
    "from selenium.common.exceptions import UnexpectedAlertPresentException, NoAlertPresentException\n",
    "from bs4 import BeautifulSoup\n",
    "import pandas as pd\n",
    "import time\n",
    "# from selenium import webdriver\n",
    "# from selenium.webdriver.chrome.options import Options\n",
    "\n",
    "# options = Options()\n",
    "# options.add_argument(\"user-data-dir=/Users/your_user/Library/Application Support/Google/Chrome/Default\")  # path to your Chrome profile\n",
    "# driver = webdriver.Chrome(options=options)\n",
    "\n",
    "\n",
    "# Setup Chrome options\n",
    "options = Options()\n",
    "options.add_argument(\"--start-maximized\")\n",
    "\n",
    "# Optional: Headless mode\n",
    "options.add_argument(\"--headless\")\n",
    "\n",
    "# Start browser\n",
    "driver = webdriver.Chrome(options=options)\n",
    "driver.get(\"https://etender.cpwd.gov.in/\")\n",
    "time.sleep(5)\n",
    "\n",
    "# Handle popup alert (CPWD Signer alert)\n",
    "try:\n",
    "    alert = driver.switch_to.alert\n",
    "    print(\"Alert detected:\", alert.text)\n",
    "    alert.accept()\n",
    "    print(\"Alert dismissed.\")\n",
    "    time.sleep(3)\n",
    "except NoAlertPresentException:\n",
    "    print(\"No alert found.\")\n",
    "\n",
    "# Click on \"New Tenders\"\n",
    "driver.find_element(By.LINK_TEXT, \"New Tenders\").click()\n",
    "time.sleep(3)\n",
    "\n",
    "# Click on \"All\"\n",
    "driver.find_element(By.LINK_TEXT, \"All\").click()\n",
    "time.sleep(5)\n",
    "\n",
    "# Grab page source after JS rendering\n",
    "soup = BeautifulSoup(driver.page_source, \"html.parser\")\n",
    "driver.quit()\n",
    "\n",
    "# Extract table\n",
    "table = soup.find(\"table\", {\"id\": \"table\"})\n",
    "if table is None:\n",
    "    raise Exception(\"Tender table not found.\")\n",
    "\n",
    "rows = table.find_all(\"tr\")[1:21]  # Skip header row\n",
    "\n",
    "# Extract relevant columns\n",
    "data = []\n",
    "for row in rows:\n",
    "    cols = row.find_all(\"td\")\n",
    "    if len(cols) >= 6:\n",
    "        data.append({\n",
    "            \"NIT/RFP NO\": cols[0].text.strip(),\n",
    "            \"Name of Work / Subwork / Packages\": cols[1].text.strip(),\n",
    "            \"Estimated Cost\": cols[2].text.strip(),\n",
    "            \"Bid Submission Closing Date & Time\": cols[3].text.strip(),\n",
    "            \"EMD Amount\": cols[4].text.strip(),\n",
    "            \"Bid Opening Date & Time\": cols[5].text.strip()\n",
    "        })\n",
    "\n",
    "# Rename columns for CSV\n",
    "csv_cols = {\n",
    "    \"NIT/RFP NO\": \"ref_no\",\n",
    "    \"Name of Work / Subwork / Packages\": \"title\",\n",
    "    \"Estimated Cost\": \"tender_value\",\n",
    "    \"Bid Submission Closing Date & Time\": \"bid_submission_end_date\",\n",
    "    \"EMD Amount\": \"emd\",\n",
    "    \"Bid Opening Date & Time\": \"bid_open_date\"\n",
    "}\n",
    "\n",
    "df = pd.DataFrame(data)\n",
    "df.rename(columns=csv_cols, inplace=True)\n",
    "\n",
    "\n",
    "# Save to CSV\n",
    "df.to_csv(\"cpwd_tenders.csv\", index=False)\n",
    "print(\"✅ Saved as cpwd_tenders.csv\")\n"
   ]
  },
  {
   "cell_type": "code",
   "execution_count": null,
   "id": "d3d74ee1",
   "metadata": {},
   "outputs": [],
   "source": []
  }
 ],
 "metadata": {
  "kernelspec": {
   "display_name": "dce",
   "language": "python",
   "name": "python3"
  },
  "language_info": {
   "codemirror_mode": {
    "name": "ipython",
    "version": 3
   },
   "file_extension": ".py",
   "mimetype": "text/x-python",
   "name": "python",
   "nbconvert_exporter": "python",
   "pygments_lexer": "ipython3",
   "version": "3.10.16"
  }
 },
 "nbformat": 4,
 "nbformat_minor": 5
}
